{
 "cells": [
  {
   "cell_type": "code",
   "execution_count": 4,
   "metadata": {},
   "outputs": [],
   "source": [
    "#!pip install bs4\n",
    "import pickle\n",
    "import os\n",
    "import datetime as dt\n",
    "import pandas_datareader.data as web \n",
    "import bs4, requests\n",
    "import pandas as pd\n",
    "from bs4 import BeautifulSoup as bs4"
   ]
  },
  {
   "cell_type": "code",
   "execution_count": 2,
   "metadata": {},
   "outputs": [],
   "source": [
    "def save_nifty50_tickers():\n",
    "    res = requests.get('https://en.wikipedia.org/wiki/NIFTY_50')\n",
    "    soup = bs4(res.text,'html.parser')\n",
    "    table = soup.find('table', {'class': 'wikitable sortable'})\n",
    "    tickers = []\n",
    "    for row in table.find_all('tr')[1:]:\n",
    "        ticker = row.find_all('td')[1].text\n",
    "        tickers.append(ticker)\n",
    "        \n",
    "    with open(\"nifty50_tickers.pickle\", \"wb\") as f:\n",
    "        pickle.dump(tickers, f)\n",
    "        \n",
    "    return tickers\n",
    "#url = 'https://en.wikipedia.org/wiki/NIFTY_50'\n",
    "#res = requests.get(url)\n",
    "#soup = bs4(res.text, 'html.parser')"
   ]
  },
  {
   "cell_type": "code",
   "execution_count": 5,
   "metadata": {},
   "outputs": [],
   "source": [
    "#save_nifty50_tickers()"
   ]
  },
  {
   "cell_type": "code",
   "execution_count": 10,
   "metadata": {},
   "outputs": [],
   "source": [
    "def get_data_from_yahoo(reload_nifty50=False):\n",
    "    if reload_nifty50:\n",
    "        tickers = save_nifty50_tickers()\n",
    "    else:\n",
    "        with open(\"nifty50_tickers.pickle\", \"rb\") as f:\n",
    "            tickers = pickle.load(f)\n",
    "    \n",
    "    if not os.path.exists('stock_dfs'):\n",
    "        os.makedirs('stock_dfs')\n",
    "    \n",
    "    start = dt.datetime(2000,1,1)\n",
    "    end = dt.datetime(2020,12,31)\n",
    "    \n",
    "    for ticker in tickers:\n",
    "        if not os.path.exists(f'stock_dfs/{ticker}'):    \n",
    "            df = web.DataReader(ticker, 'yahoo', start, end)\n",
    "            df.to_csv(f'stock_dfs/{ticker}')\n",
    "            print(f'{ticker}.csv created successfully!')\n",
    "        else:\n",
    "            print(f'{ticker}.csv already exists')"
   ]
  },
  {
   "cell_type": "code",
   "execution_count": 13,
   "metadata": {},
   "outputs": [],
   "source": [
    "#get_data_from_yahoo()"
   ]
  },
  {
   "cell_type": "code",
   "execution_count": null,
   "metadata": {},
   "outputs": [],
   "source": []
  }
 ],
 "metadata": {
  "kernelspec": {
   "display_name": "Python 3",
   "language": "python",
   "name": "python3"
  },
  "language_info": {
   "codemirror_mode": {
    "name": "ipython",
    "version": 3
   },
   "file_extension": ".py",
   "mimetype": "text/x-python",
   "name": "python",
   "nbconvert_exporter": "python",
   "pygments_lexer": "ipython3",
   "version": "3.8.6"
  }
 },
 "nbformat": 4,
 "nbformat_minor": 4
}
