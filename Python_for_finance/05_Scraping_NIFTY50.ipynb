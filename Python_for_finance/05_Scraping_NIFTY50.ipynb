{
 "cells": [
  {
   "cell_type": "code",
   "execution_count": 4,
   "metadata": {},
   "outputs": [],
   "source": [
    "#!pip install bs4\n",
    "import pickle\n",
    "import os\n",
    "import datetime as dt\n",
    "import pandas_datareader.data as web \n",
    "import bs4, requests\n",
    "import pandas as pd\n",
    "from bs4 import BeautifulSoup as bs4"
   ]
  },
  {
   "cell_type": "code",
   "execution_count": 2,
   "metadata": {},
   "outputs": [],
   "source": [
    "def save_nifty50_tickers():\n",
    "    res = requests.get('https://en.wikipedia.org/wiki/NIFTY_50')\n",
    "    soup = bs4(res.text,'html.parser')\n",
    "    table = soup.find('table', {'class': 'wikitable sortable'})\n",
    "    tickers = []\n",
    "    for row in table.find_all('tr')[1:]:\n",
    "        ticker = row.find_all('td')[1].text\n",
    "        tickers.append(ticker)\n",
    "        \n",
    "    with open(\"nifty50_tickers.pickle\", \"wb\") as f:\n",
    "        pickle.dump(tickers, f)\n",
    "        \n",
    "    return tickers\n",
    "#url = 'https://en.wikipedia.org/wiki/NIFTY_50'\n",
    "#res = requests.get(url)\n",
    "#soup = bs4(res.text, 'html.parser')"
   ]
  },
  {
   "cell_type": "code",
   "execution_count": 5,
   "metadata": {},
   "outputs": [],
   "source": [
    "#save_nifty50_tickers()"
   ]
  },
  {
   "cell_type": "code",
   "execution_count": 10,
   "metadata": {},
   "outputs": [],
   "source": [
    "def get_data_from_yahoo(reload_nifty50=False):\n",
    "    if reload_nifty50:\n",
    "        tickers = save_nifty50_tickers()\n",
    "    else:\n",
    "        with open(\"nifty50_tickers.pickle\", \"rb\") as f:\n",
    "            tickers = pickle.load(f)\n",
    "    \n",
    "    if not os.path.exists('stock_dfs'):\n",
    "        os.makedirs('stock_dfs')\n",
    "    \n",
    "    start = dt.datetime(2000,1,1)\n",
    "    end = dt.datetime(2020,12,31)\n",
    "    \n",
    "    for ticker in tickers:\n",
    "        if not os.path.exists(f'stock_dfs/{ticker}'):    \n",
    "            df = web.DataReader(ticker, 'yahoo', start, end)\n",
    "            df.to_csv(f'stock_dfs/{ticker}')\n",
    "            print(f'{ticker}.csv created successfully!')\n",
    "        else:\n",
    "            print(f'{ticker}.csv already exists')"
   ]
  },
  {
   "cell_type": "code",
   "execution_count": 13,
   "metadata": {},
   "outputs": [],
   "source": [
    "#get_data_from_yahoo()"
   ]
  },
  {
   "cell_type": "code",
   "execution_count": 23,
   "metadata": {},
   "outputs": [],
   "source": [
    "def compile_data():\n",
    "    with open(\"nifty50_tickers.pickle\", \"rb\") as f:\n",
    "        tickers = pickle.load(f)\n",
    "    \n",
    "    main_df = pd.DataFrame()\n",
    "    for count,ticker in enumerate(tickers):\n",
    "        df = pd.read_csv(f\"stock_dfs/{ticker}\")\n",
    "        df.set_index('Date', inplace=True)\n",
    "        \n",
    "        df.rename(columns = {'Adj Close': ticker}, inplace=True)\n",
    "        df.drop(['Open','Close','Volume','High','Low'], 1, inplace=True)\n",
    "        \n",
    "        if main_df.empty:\n",
    "            main_df = df\n",
    "        else:\n",
    "            main_df = main_df.join(df, how='outer')\n",
    "            \n",
    "        if count%10==0:\n",
    "            print(count)\n",
    "    print(main_df.head())\n",
    "    main_df.to_csv('stock_dfs/nifty50_joined_')"
   ]
  },
  {
   "cell_type": "code",
   "execution_count": 24,
   "metadata": {},
   "outputs": [
    {
     "name": "stdout",
     "output_type": "stream",
     "text": [
      "0\n",
      "10\n",
      "20\n",
      "30\n",
      "40\n",
      "            ADANIPORTS.NS  ASIANPAINT.NS  AXISBANK.NS  BAJAJ-AUTO.NS  \\\n",
      "Date                                                                   \n",
      "2000-01-03            NaN            NaN     0.976623            NaN   \n",
      "2000-01-04            NaN            NaN     1.014331            NaN   \n",
      "2000-01-05            NaN            NaN     0.987936            NaN   \n",
      "2000-01-06            NaN            NaN     0.963426            NaN   \n",
      "2000-01-07            NaN            NaN     0.916292            NaN   \n",
      "\n",
      "            BAJFINANCE.NS  BAJAJFINSV.NS  BHARTIARTL.NS   BPCL.NS  \\\n",
      "Date                                                                \n",
      "2000-01-03            NaN            NaN            NaN  0.431323   \n",
      "2000-01-04            NaN            NaN            NaN  0.400264   \n",
      "2000-01-05            NaN            NaN            NaN  0.388866   \n",
      "2000-01-06            NaN            NaN            NaN  0.410852   \n",
      "2000-01-07            NaN            NaN            NaN  0.410366   \n",
      "\n",
      "            BRITANNIA.NS   CIPLA.NS  ...  SHREECEM.NS  SUNPHARMA.NS  \\\n",
      "Date                                 ...                              \n",
      "2000-01-03     11.344855  69.207916  ...          NaN      1.963228   \n",
      "2000-01-04     11.309631  69.583099  ...          NaN      1.936903   \n",
      "2000-01-05     11.021101  68.148918  ...          NaN      1.868921   \n",
      "2000-01-06     11.775775  64.387802  ...          NaN      1.867098   \n",
      "2000-01-07     12.717806  59.244759  ...          NaN      1.717738   \n",
      "\n",
      "            TATAMOTORS.NS  TATASTEEL.NS  TCS.NS  TECHM.NS  TITAN.NS  \\\n",
      "Date                                                                  \n",
      "2000-01-03      13.432802     39.091606     NaN       NaN -0.139602   \n",
      "2000-01-04      12.902940     38.668499     NaN       NaN -0.132160   \n",
      "2000-01-05      13.215897     40.142906     NaN       NaN -0.124090   \n",
      "2000-01-06      13.764388     43.143074     NaN       NaN -0.134043   \n",
      "2000-01-07      14.867510     44.091797     NaN       NaN -0.131218   \n",
      "\n",
      "            ULTRACEMCO.NS  UPL.NS   WIPRO.NS  \n",
      "Date                                          \n",
      "2000-01-03            NaN     NaN  26.713875  \n",
      "2000-01-04            NaN     NaN  28.851078  \n",
      "2000-01-05            NaN     NaN  29.321251  \n",
      "2000-01-06            NaN     NaN  28.753807  \n",
      "2000-01-07            NaN     NaN  26.453951  \n",
      "\n",
      "[5 rows x 50 columns]\n"
     ]
    }
   ],
   "source": [
    "compile_data()"
   ]
  },
  {
   "cell_type": "code",
   "execution_count": null,
   "metadata": {},
   "outputs": [],
   "source": []
  },
  {
   "cell_type": "code",
   "execution_count": null,
   "metadata": {},
   "outputs": [],
   "source": []
  }
 ],
 "metadata": {
  "kernelspec": {
   "display_name": "Python 3",
   "language": "python",
   "name": "python3"
  },
  "language_info": {
   "codemirror_mode": {
    "name": "ipython",
    "version": 3
   },
   "file_extension": ".py",
   "mimetype": "text/x-python",
   "name": "python",
   "nbconvert_exporter": "python",
   "pygments_lexer": "ipython3",
   "version": "3.8.6"
  }
 },
 "nbformat": 4,
 "nbformat_minor": 4
}
