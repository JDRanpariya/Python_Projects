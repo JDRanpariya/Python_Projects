{
 "cells": [
  {
   "cell_type": "code",
   "execution_count": 4,
   "metadata": {},
   "outputs": [],
   "source": [
    "#!pip install bs4\n",
    "import pickle\n",
    "import os\n",
    "import datetime as dt\n",
    "import pandas_datareader.data as web \n",
    "import bs4, requests\n",
    "import pandas as pd\n",
    "from bs4 import BeautifulSoup as bs4"
   ]
  },
  {
   "cell_type": "code",
   "execution_count": 2,
   "metadata": {},
   "outputs": [],
   "source": [
    "def save_nifty50_tickers():\n",
    "    res = requests.get('https://en.wikipedia.org/wiki/NIFTY_50')\n",
    "    soup = bs4(res.text,'html.parser')\n",
    "    table = soup.find('table', {'class': 'wikitable sortable'})\n",
    "    tickers = []\n",
    "    for row in table.find_all('tr')[1:]:\n",
    "        ticker = row.find_all('td')[1].text\n",
    "        tickers.append(ticker)\n",
    "        \n",
    "    with open(\"nifty50_tickers.pickle\", \"wb\") as f:\n",
    "        pickle.dump(tickers, f)\n",
    "        \n",
    "    return tickers\n",
    "#url = 'https://en.wikipedia.org/wiki/NIFTY_50'\n",
    "#res = requests.get(url)\n",
    "#soup = bs4(res.text, 'html.parser')"
   ]
  },
  {
   "cell_type": "code",
   "execution_count": 5,
   "metadata": {},
   "outputs": [],
   "source": [
    "#save_nifty50_tickers()"
   ]
  },
  {
   "cell_type": "code",
   "execution_count": 10,
   "metadata": {},
   "outputs": [],
   "source": [
    "def get_data_from_yahoo(reload_nifty50=False):\n",
    "    if reload_nifty50:\n",
    "        tickers = save_nifty50_tickers()\n",
    "    else:\n",
    "        with open(\"nifty50_tickers.pickle\", \"rb\") as f:\n",
    "            tickers = pickle.load(f)\n",
    "    \n",
    "    if not os.path.exists('stock_dfs'):\n",
    "        os.makedirs('stock_dfs')\n",
    "    \n",
    "    start = dt.datetime(2000,1,1)\n",
    "    end = dt.datetime(2020,12,31)\n",
    "    \n",
    "    for ticker in tickers:\n",
    "        if not os.path.exists(f'stock_dfs/{ticker}'):    \n",
    "            df = web.DataReader(ticker, 'yahoo', start, end)\n",
    "            df.to_csv(f'stock_dfs/{ticker}')\n",
    "            print(f'{ticker}.csv created successfully!')\n",
    "        else:\n",
    "            print(f'{ticker}.csv already exists')"
   ]
  },
  {
   "cell_type": "code",
   "execution_count": 11,
   "metadata": {},
   "outputs": [
    {
     "name": "stdout",
     "output_type": "stream",
     "text": [
      "ADANIPORTS.NS.csv already exists\n",
      "ASIANPAINT.NS.csv already exists\n",
      "AXISBANK.NS.csv created successfully!\n",
      "BAJAJ-AUTO.NS.csv created successfully!\n",
      "BAJFINANCE.NS.csv created successfully!\n",
      "BAJAJFINSV.NS.csv created successfully!\n",
      "BHARTIARTL.NS.csv created successfully!\n",
      "BPCL.NS.csv created successfully!\n",
      "BRITANNIA.NS.csv created successfully!\n",
      "CIPLA.NS.csv created successfully!\n",
      "COALINDIA.NS.csv created successfully!\n",
      "DIVISLAB.NS.csv created successfully!\n",
      "DRREDDY.NS.csv created successfully!\n",
      "EICHERMOT.NS.csv created successfully!\n",
      "GAIL.NS.csv created successfully!\n",
      "GRASIM.NS.csv created successfully!\n",
      "HCLTECH.NS.csv created successfully!\n",
      "HDFC.NS.csv created successfully!\n",
      "HDFCBANK.NS.csv created successfully!\n",
      "HDFCLIFE.NS.csv created successfully!\n",
      "HEROMOTOCO.NS.csv created successfully!\n",
      "HINDALCO.NS.csv created successfully!\n",
      "HINDUNILVR.NS.csv created successfully!\n",
      "ICICIBANK.NS.csv created successfully!\n",
      "INDUSINDBK.NS.csv created successfully!\n",
      "INFY.NS.csv created successfully!\n",
      "IOC.NS.csv created successfully!\n",
      "ITC.NS.csv created successfully!\n",
      "JSWSTEEL.NS.csv created successfully!\n",
      "KOTAKBANK.NS.csv created successfully!\n",
      "LT.NS.csv created successfully!\n",
      "M&M.NS.csv created successfully!\n",
      "MARUTI.NS.csv created successfully!\n",
      "NESTLEIND.NS.csv created successfully!\n",
      "NTPC.NS.csv created successfully!\n",
      "ONGC.NS.csv created successfully!\n",
      "POWERGRID.NS.csv created successfully!\n",
      "RELIANCE.NS.csv created successfully!\n",
      "SBIN.NS.csv created successfully!\n",
      "SBILIFE.NS.csv created successfully!\n",
      "SHREECEM.NS.csv created successfully!\n",
      "SUNPHARMA.NS.csv created successfully!\n",
      "TATAMOTORS.NS.csv created successfully!\n",
      "TATASTEEL.NS.csv created successfully!\n",
      "TCS.NS.csv created successfully!\n",
      "TECHM.NS.csv created successfully!\n",
      "TITAN.NS.csv created successfully!\n",
      "ULTRACEMCO.NS.csv created successfully!\n",
      "UPL.NS.csv created successfully!\n",
      "WIPRO.NS.csv created successfully!\n"
     ]
    }
   ],
   "source": [
    "get_data_from_yahoo()"
   ]
  },
  {
   "cell_type": "code",
   "execution_count": null,
   "metadata": {},
   "outputs": [],
   "source": []
  }
 ],
 "metadata": {
  "kernelspec": {
   "display_name": "Python 3",
   "language": "python",
   "name": "python3"
  },
  "language_info": {
   "codemirror_mode": {
    "name": "ipython",
    "version": 3
   },
   "file_extension": ".py",
   "mimetype": "text/x-python",
   "name": "python",
   "nbconvert_exporter": "python",
   "pygments_lexer": "ipython3",
   "version": "3.8.6"
  }
 },
 "nbformat": 4,
 "nbformat_minor": 4
}
